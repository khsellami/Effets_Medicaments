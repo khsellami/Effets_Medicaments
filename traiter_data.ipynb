{
 "cells": [
  {
   "cell_type": "markdown",
   "id": "a65c0a58",
   "metadata": {},
   "source": [
    "# Étape 1 : Importer les bibliothèques nécessaires"
   ]
  },
  {
   "cell_type": "code",
   "execution_count": 3,
   "id": "d4dc7974",
   "metadata": {},
   "outputs": [
    {
     "name": "stdout",
     "output_type": "stream",
     "text": [
      "Defaulting to user installation because normal site-packages is not writeable\n",
      "Requirement already satisfied: pandas in c:\\users\\sella\\appdata\\roaming\\python\\python311\\site-packages (2.2.3)\n",
      "Requirement already satisfied: numpy in c:\\users\\sella\\appdata\\roaming\\python\\python311\\site-packages (2.1.3)\n",
      "Requirement already satisfied: matplotlib in c:\\users\\sella\\appdata\\roaming\\python\\python311\\site-packages (3.10.1)\n",
      "Collecting seaborn\n",
      "  Downloading seaborn-0.13.2-py3-none-any.whl (294 kB)\n",
      "     ------------------------------------ 294.9/294.9 kB 176.8 kB/s eta 0:00:00\n",
      "Requirement already satisfied: python-dateutil>=2.8.2 in c:\\users\\sella\\appdata\\roaming\\python\\python311\\site-packages (from pandas) (2.9.0.post0)\n",
      "Requirement already satisfied: pytz>=2020.1 in c:\\users\\sella\\appdata\\roaming\\python\\python311\\site-packages (from pandas) (2025.2)\n",
      "Requirement already satisfied: tzdata>=2022.7 in c:\\users\\sella\\appdata\\roaming\\python\\python311\\site-packages (from pandas) (2025.2)\n",
      "Requirement already satisfied: contourpy>=1.0.1 in c:\\users\\sella\\appdata\\roaming\\python\\python311\\site-packages (from matplotlib) (1.3.2)\n",
      "Requirement already satisfied: cycler>=0.10 in c:\\users\\sella\\appdata\\roaming\\python\\python311\\site-packages (from matplotlib) (0.12.1)\n",
      "Requirement already satisfied: fonttools>=4.22.0 in c:\\users\\sella\\appdata\\roaming\\python\\python311\\site-packages (from matplotlib) (4.57.0)\n",
      "Requirement already satisfied: kiwisolver>=1.3.1 in c:\\users\\sella\\appdata\\roaming\\python\\python311\\site-packages (from matplotlib) (1.4.8)\n",
      "Requirement already satisfied: packaging>=20.0 in c:\\users\\sella\\appdata\\roaming\\python\\python311\\site-packages (from matplotlib) (25.0)\n",
      "Requirement already satisfied: pillow>=8 in c:\\users\\sella\\appdata\\roaming\\python\\python311\\site-packages (from matplotlib) (11.2.1)\n",
      "Requirement already satisfied: pyparsing>=2.3.1 in c:\\users\\sella\\appdata\\roaming\\python\\python311\\site-packages (from matplotlib) (3.2.3)\n",
      "Requirement already satisfied: six>=1.5 in c:\\users\\sella\\appdata\\roaming\\python\\python311\\site-packages (from python-dateutil>=2.8.2->pandas) (1.17.0)\n",
      "Installing collected packages: seaborn\n",
      "Successfully installed seaborn-0.13.2\n"
     ]
    },
    {
     "name": "stderr",
     "output_type": "stream",
     "text": [
      "\n",
      "[notice] A new release of pip available: 22.3 -> 25.1.1\n",
      "[notice] To update, run: python.exe -m pip install --upgrade pip\n"
     ]
    }
   ],
   "source": [
    "!pip install pandas numpy matplotlib seaborn"
   ]
  },
  {
   "cell_type": "code",
   "execution_count": 4,
   "id": "7d0bd05c",
   "metadata": {},
   "outputs": [],
   "source": [
    "import pandas as pd\n",
    "import numpy as np\n",
    "import matplotlib.pyplot as plt\n",
    "import seaborn as sns"
   ]
  },
  {
   "cell_type": "markdown",
   "id": "77071994",
   "metadata": {},
   "source": [
    "# Étape 2 : Traitement du premier dataset"
   ]
  },
  {
   "cell_type": "markdown",
   "id": "ce16c31c",
   "metadata": {},
   "source": [
    "### 1. Explication de contenu de dataset \"drugs_side_effects_drugs_com.csv\""
   ]
  },
  {
   "cell_type": "markdown",
   "id": "7f05030e",
   "metadata": {},
   "source": [
    "| Colonne                      | Description                                                                                                 |\n",
    "|------------------------------|-------------------------------------------------------------------------------------------------------------|\n",
    "| **`drug_name`**               | Le **nom du médicament** (par exemple : Ibuprofen, Paracetamol).                                            |\n",
    "| **`medical_condition`**       | La **condition médicale** pour laquelle le médicament est prescrit (ex. : douleur chronique, anxiété, diabète).|\n",
    "| **`side_effects`**            | La liste des **effets secondaires** fréquemment rapportés (ex. : nausée, vertiges, somnolence).              |\n",
    "| **`generic_name`**            | Le **nom générique** du médicament (par ex. \"acetaminophen\" pour \"Tylenol\").                                |\n",
    "| **`drug_classes`**            | La **classe pharmacologique** du médicament (ex. : AINS, inhibiteur de la pompe à protons).                  |\n",
    "| **`brand_names`**             | Les **noms commerciaux/marques** sous lesquels le médicament est vendu (ex. : Advil, Motrin).                |\n",
    "| **`activity`**                | Information sur **l'activité thérapeutique** (peut être vide ou indiquer actif/inactif, ou le mécanisme d’action).|\n",
    "| **`rx_otc`**                  | Indique si le médicament est **prescription only (Rx)** ou **en vente libre (OTC)**.                        |\n",
    "| **`pregnancy_category`**      | La **catégorie de risque pendant la grossesse** (A, B, C, D, X) selon la FDA (X = à éviter absolument).       |\n",
    "| **`csa`**                     | Catégorie selon le **Controlled Substances Act** (par ex. : Schedule II = fort potentiel d'abus).            |\n",
    "| **`alcohol`**                 | Avertissements ou interactions connues avec l’**alcool**.                                                   |\n",
    "| **`related_drugs`**           | Autres médicaments **similaires ou alternatifs** utilisés pour la même condition.                           |\n",
    "| **`medical_condition_description`** | Une **description textuelle** de la condition médicale (ex. : explication du diabète de type 2).              |\n",
    "| **`rating`**                  | **Note moyenne** donnée par les utilisateurs (souvent sur 10).                                               |\n",
    "| **`no_of_reviews`**           | Nombre de **commentaires ou évaluations** d’utilisateurs pour ce médicament.                                |\n",
    "| **`drug_link`**               | Lien web vers la page détaillée du médicament.                                                              |\n",
    "| **`medical_condition_url`**   | Lien vers la page détaillée de la condition médicale.                                                       |\n"
   ]
  },
  {
   "cell_type": "markdown",
   "id": "9be28109",
   "metadata": {},
   "source": [
    "### 2. Charger le dataset"
   ]
  },
  {
   "cell_type": "code",
   "execution_count": 5,
   "id": "ff0c4eb5",
   "metadata": {},
   "outputs": [
    {
     "data": {
      "text/html": [
       "<div>\n",
       "<style scoped>\n",
       "    .dataframe tbody tr th:only-of-type {\n",
       "        vertical-align: middle;\n",
       "    }\n",
       "\n",
       "    .dataframe tbody tr th {\n",
       "        vertical-align: top;\n",
       "    }\n",
       "\n",
       "    .dataframe thead th {\n",
       "        text-align: right;\n",
       "    }\n",
       "</style>\n",
       "<table border=\"1\" class=\"dataframe\">\n",
       "  <thead>\n",
       "    <tr style=\"text-align: right;\">\n",
       "      <th></th>\n",
       "      <th>drug_name</th>\n",
       "      <th>medical_condition</th>\n",
       "      <th>side_effects</th>\n",
       "      <th>generic_name</th>\n",
       "      <th>drug_classes</th>\n",
       "      <th>brand_names</th>\n",
       "      <th>activity</th>\n",
       "      <th>rx_otc</th>\n",
       "      <th>pregnancy_category</th>\n",
       "      <th>csa</th>\n",
       "      <th>alcohol</th>\n",
       "      <th>related_drugs</th>\n",
       "      <th>medical_condition_description</th>\n",
       "      <th>rating</th>\n",
       "      <th>no_of_reviews</th>\n",
       "      <th>drug_link</th>\n",
       "      <th>medical_condition_url</th>\n",
       "    </tr>\n",
       "  </thead>\n",
       "  <tbody>\n",
       "    <tr>\n",
       "      <th>0</th>\n",
       "      <td>doxycycline</td>\n",
       "      <td>Acne</td>\n",
       "      <td>(hives, difficult breathing, swelling in your ...</td>\n",
       "      <td>doxycycline</td>\n",
       "      <td>Miscellaneous antimalarials, Tetracyclines</td>\n",
       "      <td>Acticlate, Adoxa CK, Adoxa Pak, Adoxa TT, Alod...</td>\n",
       "      <td>87%</td>\n",
       "      <td>Rx</td>\n",
       "      <td>D</td>\n",
       "      <td>N</td>\n",
       "      <td>X</td>\n",
       "      <td>amoxicillin: https://www.drugs.com/amoxicillin...</td>\n",
       "      <td>Acne Other names: Acne Vulgaris; Blackheads; B...</td>\n",
       "      <td>6.8</td>\n",
       "      <td>760.0</td>\n",
       "      <td>https://www.drugs.com/doxycycline.html</td>\n",
       "      <td>https://www.drugs.com/condition/acne.html</td>\n",
       "    </tr>\n",
       "    <tr>\n",
       "      <th>1</th>\n",
       "      <td>spironolactone</td>\n",
       "      <td>Acne</td>\n",
       "      <td>hives ; difficulty breathing; swelling of your...</td>\n",
       "      <td>spironolactone</td>\n",
       "      <td>Aldosterone receptor antagonists, Potassium-sp...</td>\n",
       "      <td>Aldactone, CaroSpir</td>\n",
       "      <td>82%</td>\n",
       "      <td>Rx</td>\n",
       "      <td>C</td>\n",
       "      <td>N</td>\n",
       "      <td>X</td>\n",
       "      <td>amlodipine: https://www.drugs.com/amlodipine.h...</td>\n",
       "      <td>Acne Other names: Acne Vulgaris; Blackheads; B...</td>\n",
       "      <td>7.2</td>\n",
       "      <td>449.0</td>\n",
       "      <td>https://www.drugs.com/spironolactone.html</td>\n",
       "      <td>https://www.drugs.com/condition/acne.html</td>\n",
       "    </tr>\n",
       "    <tr>\n",
       "      <th>2</th>\n",
       "      <td>minocycline</td>\n",
       "      <td>Acne</td>\n",
       "      <td>skin rash, fever, swollen glands, flu-like sym...</td>\n",
       "      <td>minocycline</td>\n",
       "      <td>Tetracyclines</td>\n",
       "      <td>Dynacin, Minocin, Minolira, Solodyn, Ximino, V...</td>\n",
       "      <td>48%</td>\n",
       "      <td>Rx</td>\n",
       "      <td>D</td>\n",
       "      <td>N</td>\n",
       "      <td>NaN</td>\n",
       "      <td>amoxicillin: https://www.drugs.com/amoxicillin...</td>\n",
       "      <td>Acne Other names: Acne Vulgaris; Blackheads; B...</td>\n",
       "      <td>5.7</td>\n",
       "      <td>482.0</td>\n",
       "      <td>https://www.drugs.com/minocycline.html</td>\n",
       "      <td>https://www.drugs.com/condition/acne.html</td>\n",
       "    </tr>\n",
       "    <tr>\n",
       "      <th>3</th>\n",
       "      <td>Accutane</td>\n",
       "      <td>Acne</td>\n",
       "      <td>problems with your vision or hearing; muscle o...</td>\n",
       "      <td>isotretinoin (oral)</td>\n",
       "      <td>Miscellaneous antineoplastics, Miscellaneous u...</td>\n",
       "      <td>NaN</td>\n",
       "      <td>41%</td>\n",
       "      <td>Rx</td>\n",
       "      <td>X</td>\n",
       "      <td>N</td>\n",
       "      <td>X</td>\n",
       "      <td>doxycycline: https://www.drugs.com/doxycycline...</td>\n",
       "      <td>Acne Other names: Acne Vulgaris; Blackheads; B...</td>\n",
       "      <td>7.9</td>\n",
       "      <td>623.0</td>\n",
       "      <td>https://www.drugs.com/accutane.html</td>\n",
       "      <td>https://www.drugs.com/condition/acne.html</td>\n",
       "    </tr>\n",
       "    <tr>\n",
       "      <th>4</th>\n",
       "      <td>clindamycin</td>\n",
       "      <td>Acne</td>\n",
       "      <td>hives ; difficult breathing; swelling of your ...</td>\n",
       "      <td>clindamycin topical</td>\n",
       "      <td>Topical acne agents, Vaginal anti-infectives</td>\n",
       "      <td>Cleocin T, Clindacin ETZ, Clindacin P, Clindag...</td>\n",
       "      <td>39%</td>\n",
       "      <td>Rx</td>\n",
       "      <td>B</td>\n",
       "      <td>N</td>\n",
       "      <td>NaN</td>\n",
       "      <td>doxycycline: https://www.drugs.com/doxycycline...</td>\n",
       "      <td>Acne Other names: Acne Vulgaris; Blackheads; B...</td>\n",
       "      <td>7.4</td>\n",
       "      <td>146.0</td>\n",
       "      <td>https://www.drugs.com/mtm/clindamycin-topical....</td>\n",
       "      <td>https://www.drugs.com/condition/acne.html</td>\n",
       "    </tr>\n",
       "  </tbody>\n",
       "</table>\n",
       "</div>"
      ],
      "text/plain": [
       "        drug_name medical_condition  \\\n",
       "0     doxycycline              Acne   \n",
       "1  spironolactone              Acne   \n",
       "2     minocycline              Acne   \n",
       "3        Accutane              Acne   \n",
       "4     clindamycin              Acne   \n",
       "\n",
       "                                        side_effects         generic_name  \\\n",
       "0  (hives, difficult breathing, swelling in your ...          doxycycline   \n",
       "1  hives ; difficulty breathing; swelling of your...       spironolactone   \n",
       "2  skin rash, fever, swollen glands, flu-like sym...          minocycline   \n",
       "3  problems with your vision or hearing; muscle o...  isotretinoin (oral)   \n",
       "4  hives ; difficult breathing; swelling of your ...  clindamycin topical   \n",
       "\n",
       "                                        drug_classes  \\\n",
       "0         Miscellaneous antimalarials, Tetracyclines   \n",
       "1  Aldosterone receptor antagonists, Potassium-sp...   \n",
       "2                                      Tetracyclines   \n",
       "3  Miscellaneous antineoplastics, Miscellaneous u...   \n",
       "4       Topical acne agents, Vaginal anti-infectives   \n",
       "\n",
       "                                         brand_names activity rx_otc  \\\n",
       "0  Acticlate, Adoxa CK, Adoxa Pak, Adoxa TT, Alod...      87%     Rx   \n",
       "1                                Aldactone, CaroSpir      82%     Rx   \n",
       "2  Dynacin, Minocin, Minolira, Solodyn, Ximino, V...      48%     Rx   \n",
       "3                                                NaN      41%     Rx   \n",
       "4  Cleocin T, Clindacin ETZ, Clindacin P, Clindag...      39%     Rx   \n",
       "\n",
       "  pregnancy_category csa alcohol  \\\n",
       "0                  D   N       X   \n",
       "1                  C   N       X   \n",
       "2                  D   N     NaN   \n",
       "3                  X   N       X   \n",
       "4                  B   N     NaN   \n",
       "\n",
       "                                       related_drugs  \\\n",
       "0  amoxicillin: https://www.drugs.com/amoxicillin...   \n",
       "1  amlodipine: https://www.drugs.com/amlodipine.h...   \n",
       "2  amoxicillin: https://www.drugs.com/amoxicillin...   \n",
       "3  doxycycline: https://www.drugs.com/doxycycline...   \n",
       "4  doxycycline: https://www.drugs.com/doxycycline...   \n",
       "\n",
       "                       medical_condition_description  rating  no_of_reviews  \\\n",
       "0  Acne Other names: Acne Vulgaris; Blackheads; B...     6.8          760.0   \n",
       "1  Acne Other names: Acne Vulgaris; Blackheads; B...     7.2          449.0   \n",
       "2  Acne Other names: Acne Vulgaris; Blackheads; B...     5.7          482.0   \n",
       "3  Acne Other names: Acne Vulgaris; Blackheads; B...     7.9          623.0   \n",
       "4  Acne Other names: Acne Vulgaris; Blackheads; B...     7.4          146.0   \n",
       "\n",
       "                                           drug_link  \\\n",
       "0             https://www.drugs.com/doxycycline.html   \n",
       "1          https://www.drugs.com/spironolactone.html   \n",
       "2             https://www.drugs.com/minocycline.html   \n",
       "3                https://www.drugs.com/accutane.html   \n",
       "4  https://www.drugs.com/mtm/clindamycin-topical....   \n",
       "\n",
       "                       medical_condition_url  \n",
       "0  https://www.drugs.com/condition/acne.html  \n",
       "1  https://www.drugs.com/condition/acne.html  \n",
       "2  https://www.drugs.com/condition/acne.html  \n",
       "3  https://www.drugs.com/condition/acne.html  \n",
       "4  https://www.drugs.com/condition/acne.html  "
      ]
     },
     "execution_count": 5,
     "metadata": {},
     "output_type": "execute_result"
    }
   ],
   "source": [
    "# Charger le premier dataset\n",
    "df1 = pd.read_csv('archive/drugs_side_effects_drugs_com.csv')\n",
    "\n",
    "# Aperçu des premières lignes\n",
    "df1.head()"
   ]
  },
  {
   "cell_type": "markdown",
   "id": "c481a3f8",
   "metadata": {},
   "source": [
    "### 3. Explorer le dataset"
   ]
  },
  {
   "cell_type": "code",
   "execution_count": 6,
   "id": "9a03be16",
   "metadata": {},
   "outputs": [
    {
     "name": "stdout",
     "output_type": "stream",
     "text": [
      "<class 'pandas.core.frame.DataFrame'>\n",
      "RangeIndex: 2931 entries, 0 to 2930\n",
      "Data columns (total 17 columns):\n",
      " #   Column                         Non-Null Count  Dtype  \n",
      "---  ------                         --------------  -----  \n",
      " 0   drug_name                      2931 non-null   object \n",
      " 1   medical_condition              2931 non-null   object \n",
      " 2   side_effects                   2807 non-null   object \n",
      " 3   generic_name                   2888 non-null   object \n",
      " 4   drug_classes                   2849 non-null   object \n",
      " 5   brand_names                    1718 non-null   object \n",
      " 6   activity                       2931 non-null   object \n",
      " 7   rx_otc                         2930 non-null   object \n",
      " 8   pregnancy_category             2702 non-null   object \n",
      " 9   csa                            2931 non-null   object \n",
      " 10  alcohol                        1377 non-null   object \n",
      " 11  related_drugs                  1462 non-null   object \n",
      " 12  medical_condition_description  2931 non-null   object \n",
      " 13  rating                         1586 non-null   float64\n",
      " 14  no_of_reviews                  1586 non-null   float64\n",
      " 15  drug_link                      2931 non-null   object \n",
      " 16  medical_condition_url          2931 non-null   object \n",
      "dtypes: float64(2), object(15)\n",
      "memory usage: 389.4+ KB\n"
     ]
    },
    {
     "data": {
      "text/plain": [
       "drug_name                           0\n",
       "medical_condition                   0\n",
       "side_effects                      124\n",
       "generic_name                       43\n",
       "drug_classes                       82\n",
       "brand_names                      1213\n",
       "activity                            0\n",
       "rx_otc                              1\n",
       "pregnancy_category                229\n",
       "csa                                 0\n",
       "alcohol                          1554\n",
       "related_drugs                    1469\n",
       "medical_condition_description       0\n",
       "rating                           1345\n",
       "no_of_reviews                    1345\n",
       "drug_link                           0\n",
       "medical_condition_url               0\n",
       "dtype: int64"
      ]
     },
     "execution_count": 6,
     "metadata": {},
     "output_type": "execute_result"
    }
   ],
   "source": [
    "# Afficher les informations générales du dataset\n",
    "df1.info()\n",
    "\n",
    "# Résumé statistique\n",
    "df1.describe()\n",
    "\n",
    "# Vérification des valeurs manquantes\n",
    "df1.isnull().sum()\n"
   ]
  },
  {
   "cell_type": "markdown",
   "id": "723e0fc5",
   "metadata": {},
   "source": [
    "### 4. Nettoyer et prétraiter"
   ]
  },
  {
   "cell_type": "code",
   "execution_count": 7,
   "id": "ed5d5841",
   "metadata": {},
   "outputs": [
    {
     "name": "stdout",
     "output_type": "stream",
     "text": [
      "<class 'pandas.core.frame.DataFrame'>\n",
      "RangeIndex: 2931 entries, 0 to 2930\n",
      "Data columns (total 13 columns):\n",
      " #   Column                         Non-Null Count  Dtype  \n",
      "---  ------                         --------------  -----  \n",
      " 0   drug_name                      2931 non-null   object \n",
      " 1   medical_condition              2931 non-null   object \n",
      " 2   side_effects                   2807 non-null   object \n",
      " 3   generic_name                   2888 non-null   object \n",
      " 4   drug_classes                   2849 non-null   object \n",
      " 5   rx_otc                         2930 non-null   object \n",
      " 6   pregnancy_category             2702 non-null   object \n",
      " 7   csa                            2931 non-null   object \n",
      " 8   alcohol                        1377 non-null   object \n",
      " 9   related_drugs                  1462 non-null   object \n",
      " 10  medical_condition_description  2931 non-null   object \n",
      " 11  rating                         1586 non-null   float64\n",
      " 12  no_of_reviews                  1586 non-null   float64\n",
      "dtypes: float64(2), object(11)\n",
      "memory usage: 297.8+ KB\n"
     ]
    }
   ],
   "source": [
    "#supprimer les colonnes inutiles\n",
    "\"\"\"\n",
    "*brand_names : Redondant avec drug_name, sauf si tu veux gérer les marques.\n",
    "*activity : Souvent vide ou imprécis. Peut être ignoré si pas exploité\n",
    "*drug_link, medical_condition_url: Liens web, inutiles pour du machine learning.\n",
    "\"\"\"\n",
    "df1 = df1.drop(columns=['brand_names', 'activity', 'drug_link', 'medical_condition_url'])\n",
    "\n",
    "# Vérification des modifications\n",
    "df1.info()\n"
   ]
  },
  {
   "cell_type": "code",
   "execution_count": 8,
   "id": "1dae9b1f",
   "metadata": {},
   "outputs": [
    {
     "data": {
      "text/plain": [
       "drug_name                        0\n",
       "medical_condition                0\n",
       "side_effects                     0\n",
       "generic_name                     0\n",
       "drug_classes                     0\n",
       "rx_otc                           0\n",
       "pregnancy_category               0\n",
       "csa                              0\n",
       "alcohol                          0\n",
       "related_drugs                    0\n",
       "medical_condition_description    0\n",
       "rating                           0\n",
       "no_of_reviews                    0\n",
       "dtype: int64"
      ]
     },
     "execution_count": 8,
     "metadata": {},
     "output_type": "execute_result"
    }
   ],
   "source": [
    "#Gestion des valeurs manquantes\n",
    "# Remplir les valeurs manquantes dans les colonnes numériques avec la moyenne\n",
    "df1['rating'] = df1['rating'].fillna(df1['rating'].mean())\n",
    "df1['no_of_reviews'] = df1['no_of_reviews'].fillna(df1['no_of_reviews'].mean())\n",
    "\n",
    "# Remplir les valeurs manquantes dans les colonnes de type objet avec une valeur par défaut ou une chaîne vide\n",
    "df1['side_effects'] = df1['side_effects'].fillna('Inconnu')  # Par exemple, si les effets secondaires sont manquants\n",
    "df1['generic_name'] = df1['generic_name'].fillna('Non spécifié')\n",
    "df1['drug_classes'] = df1['drug_classes'].fillna('Non spécifié')\n",
    "df1['rx_otc'] = df1['rx_otc'].fillna('Non spécifié')\n",
    "df1['pregnancy_category'] = df1['pregnancy_category'].fillna('Inconnu')\n",
    "df1['alcohol'] = df1['alcohol'].fillna('Inconnu')\n",
    "df1['related_drugs'] = df1['related_drugs'].fillna('Inconnu')\n",
    "\n",
    "# Vérification après traitement des valeurs manquantes\n",
    "df1.isnull().sum()\n"
   ]
  },
  {
   "cell_type": "code",
   "execution_count": 9,
   "id": "12e1e2a9",
   "metadata": {},
   "outputs": [
    {
     "data": {
      "text/plain": [
       "(2931, 13)"
      ]
     },
     "execution_count": 9,
     "metadata": {},
     "output_type": "execute_result"
    }
   ],
   "source": [
    "#Suppression des doublons\n",
    "# Supprimer les doublons basés sur toutes les colonnes\n",
    "df1 = df1.drop_duplicates()\n",
    "\n",
    "# Vérification après suppression des doublons\n",
    "df1.shape\n"
   ]
  },
  {
   "cell_type": "markdown",
   "id": "40c02717",
   "metadata": {},
   "source": [
    "# Étape 2 : Traitement du deuxieme dataset"
   ]
  },
  {
   "cell_type": "markdown",
   "id": "0e5e1404",
   "metadata": {},
   "source": [
    "### 1. Explication de contenu de dataset \"faers_sample_300.csv\""
   ]
  },
  {
   "cell_type": "markdown",
   "id": "2c0f1223",
   "metadata": {},
   "source": [
    "| **Colonne**     | **Description**                                                                 |\n",
    "|-----------------|---------------------------------------------------------------------------------|\n",
    "| `report_id`     | Identifiant unique du rapport d'événement indésirable (généralement utilisé pour suivre et référencer les rapports dans une base de données). |\n",
    "| `age`           | L'âge du patient (en années) au moment de la déclaration de l'événement indésirable. |\n",
    "| `sex`           | Le sexe du patient |\n",
    "| `reactions`     | Une liste des réactions indésirables observées chez le patient|\n",
    "| `drugs`         | Une liste des médicaments administrés au patient, qui peuvent être responsables des réactions indésirables. |\n"
   ]
  },
  {
   "cell_type": "markdown",
   "id": "dfa25689",
   "metadata": {},
   "source": [
    "### 2. Charger le dataset"
   ]
  },
  {
   "cell_type": "code",
   "execution_count": null,
   "id": "2e55fdc3",
   "metadata": {},
   "outputs": [],
   "source": [
    "# Charger le premier dataset\n",
    "df2 = pd.read_csv('ffaers_sample_300/faers_sample_300.csv')\n",
    "\n",
    "# Aperçu des premières lignes\n",
    "df2.head()"
   ]
  },
  {
   "cell_type": "markdown",
   "id": "b14ba615",
   "metadata": {},
   "source": [
    "### 3. Explorer le dataset"
   ]
  },
  {
   "cell_type": "code",
   "execution_count": null,
   "id": "9e7e8817",
   "metadata": {},
   "outputs": [],
   "source": [
    "# Afficher les informations générales du dataset\n",
    "df2.info()\n",
    "\n",
    "# Résumé statistique\n",
    "df2.describe()\n",
    "\n",
    "# Vérification des valeurs manquantes\n",
    "df2.isnull().sum()\n"
   ]
  },
  {
   "cell_type": "markdown",
   "id": "e18022e5",
   "metadata": {},
   "source": [
    "### 4. Nettoyer et prétraiter"
   ]
  },
  {
   "cell_type": "code",
   "execution_count": null,
   "id": "e19eac72",
   "metadata": {},
   "outputs": [],
   "source": [
    "#Gestion des valeurs manquantes\n",
    "# Remplacer les âges manquants par la médiane\n",
    "df['age'] = df['age'].fillna(df['age'].median())\n",
    "\n",
    "# Remplacer les sexes manquants par \"Inconnu\"\n",
    "df['sex'] = df['sex'].fillna(0)  # 0 = Inconnu (on peut le mapper ensuite)\n",
    "\n",
    "# Remplacer les réactions manquantes par \"NON SPÉCIFIÉ\"\n",
    "df['reactions'] = df['reactions'].fillna(\"NON SPÉCIFIÉ\")\n",
    "\n",
    "# Remplacer les médicaments manquants par \"NON SPÉCIFIÉ\"\n",
    "df['drugs'] = df['drugs'].fillna(\"NON SPÉCIFIÉ\")\n"
   ]
  },
  {
   "cell_type": "code",
   "execution_count": null,
   "id": "39b5d1b0",
   "metadata": {},
   "outputs": [],
   "source": [
    "#Suppression des doublons\n",
    "# Supprimer les doublons exacts\n",
    "df2 = df2.drop_duplicates()\n",
    "\n",
    "# Supprimer les doublons selon un identifiant unique\n",
    "df2 = df2.drop_duplicates(subset='report_id')"
   ]
  },
  {
   "cell_type": "markdown",
   "id": "479826a3",
   "metadata": {},
   "source": [
    "# Étape 3 : Fusion des deux dataset"
   ]
  },
  {
   "cell_type": "code",
   "execution_count": null,
   "id": "231d39f4",
   "metadata": {},
   "outputs": [],
   "source": [
    "# Standardize column names (strip spaces and lowercase for easier merging)\n",
    "df1.columns = df1.columns.str.strip().str.lower()\n",
    "df2.columns = df2.columns.str.strip().str.lower()\n",
    "\n",
    "# Ensure column name consistency for merge (drug_name vs drugs)\n",
    "# We'll split 'drugs' in df2 if it's a list and take the first drug for simplicity\n",
    "df2['drug_name'] = df2['drugs'].str.split(';').str[0].str.strip().str.lower()\n",
    "df1['drug_name'] = df1['drug_name'].str.lower()\n",
    "\n",
    "# Merge datasets on drug_name\n",
    "merged_df = pd.merge(df2, df1, on='drug_name', how='left')\n",
    "\n",
    "# Drop duplicates and reset index\n",
    "merged_df.drop_duplicates(inplace=True)\n",
    "merged_df.reset_index(drop=True, inplace=True)\n",
    "\n",
    "# Display merged structure\n",
    "print(\"\\nMerged DataFrame:\")\n",
    "print(merged_df.head())\n",
    "\n",
    "# Optional: Save cleaned merged data\n",
    "merged_df.to_csv(\"merged_cleaned_data.csv\", index=False)\n"
   ]
  },
  {
   "cell_type": "code",
   "execution_count": null,
   "id": "400e35f6",
   "metadata": {},
   "outputs": [],
   "source": [
    "# Aperçu des premières lignes\n",
    "print(merged_df.head())\n",
    "\n",
    "# Structure du DataFrame\n",
    "merged_df.info()\n",
    "\n",
    "# Dimensions du dataset\n",
    "print(f\"Nombre de lignes : {merged_df.shape[0]}\")\n",
    "print(f\"Nombre de colonnes : {merged_df.shape[1]}\")\n",
    "print(merged_df.isnull().sum())\n"
   ]
  }
 ],
 "metadata": {
  "kernelspec": {
   "display_name": "Python 3",
   "language": "python",
   "name": "python3"
  },
  "language_info": {
   "codemirror_mode": {
    "name": "ipython",
    "version": 3
   },
   "file_extension": ".py",
   "mimetype": "text/x-python",
   "name": "python",
   "nbconvert_exporter": "python",
   "pygments_lexer": "ipython3",
   "version": "3.11.0"
  }
 },
 "nbformat": 4,
 "nbformat_minor": 5
}
